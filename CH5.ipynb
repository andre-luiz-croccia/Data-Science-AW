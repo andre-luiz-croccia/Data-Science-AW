{
 "cells": [
  {
   "cell_type": "code",
   "execution_count": 0,
   "metadata": {
    "application/vnd.databricks.v1+cell": {
     "cellMetadata": {
      "byteLimit": 2048000,
      "rowLimit": 10000
     },
     "inputWidgets": {},
     "nuid": "5e17c6e8-f294-4c6b-a215-86a35cf44d66",
     "showTitle": false,
     "tableResultSettingsMap": {},
     "title": ""
    }
   },
   "outputs": [],
   "source": [
    "%pip install xgboost lightgbm\n"
   ]
  },
  {
   "cell_type": "code",
   "execution_count": 0,
   "metadata": {
    "application/vnd.databricks.v1+cell": {
     "cellMetadata": {
      "byteLimit": 2048000,
      "rowLimit": 10000
     },
     "inputWidgets": {},
     "nuid": "040e164b-db14-48a4-bdff-a850dd6530cf",
     "showTitle": false,
     "tableResultSettingsMap": {},
     "title": ""
    }
   },
   "outputs": [],
   "source": [
    "# =========================\n",
    "# Imports\n",
    "# =========================\n",
    "from pyspark.sql import functions as F\n",
    "from pyspark.sql.types import StructType, StructField, DoubleType, LongType, StringType\n",
    "from sklearn.ensemble import RandomForestRegressor\n",
    "import xgboost as xgb\n",
    "import lightgbm as lgb\n",
    "import pandas as pd\n",
    "import numpy as np\n",
    "\n",
    "# =========================\n",
    "# Carregar dados agregados por produto + loja + mês\n",
    "# =========================\n",
    "df_vendas = spark.table(\"ted_dev.dbt_acroccia_aw_marts.fato_pedidos_2\")\n",
    "\n",
    "# Criar coluna ano_mes e converter para date\n",
    "df_vendas = df_vendas.withColumn(\"ano_mes\", F.date_format(\"data_de_venda\", \"yyyy-MM\"))\n",
    "df_agg = df_vendas.groupBy(\"produto\", \"id_loja\", \"ano_mes\") \\\n",
    "                  .agg(F.sum(\"qtde\").alias(\"qtde\"))\n",
    "\n",
    "df_agg = df_agg.withColumn(\n",
    "    \"ano_mes\",\n",
    "    F.to_date(F.concat_ws(\"-\", F.col(\"ano_mes\"), F.lit(\"01\")), \"yyyy-MM-dd\")\n",
    ")\n",
    "\n",
    "df_agg = df_agg.filter(F.col(\"id_loja\").isNotNull() & (F.col(\"qtde\") > 0))\n",
    "df_agg = df_agg.repartition(\"produto\", \"id_loja\")\n",
    "\n",
    "# =========================\n",
    "# Função de forecast otimizada\n",
    "# =========================\n",
    "def forecast_3meses(pdf):\n",
    "    produto = pdf['produto'].iloc[0]\n",
    "    loja = pdf['id_loja'].iloc[0]\n",
    "    pdf = pdf.sort_values('ano_mes').copy()\n",
    "    pdf['ano_mes'] = pd.to_datetime(pdf['ano_mes'])\n",
    "    \n",
    "    # Se histórico insuficiente ou vendas zeradas: usar média móvel\n",
    "    if len(pdf) < 3 or pdf['qtde'].sum() == 0:\n",
    "        ma_pred = pdf['qtde'].mean() * 3 if len(pdf) > 0 else 0\n",
    "        return pd.DataFrame({\n",
    "            'produto':[produto],\n",
    "            'id_loja':[loja],\n",
    "            'rf':[0],\n",
    "            'xgb':[0],\n",
    "            'lgb':[0],\n",
    "            'ma':[ma_pred]\n",
    "        })\n",
    "    \n",
    "    # Features de tempo\n",
    "    pdf['ano'] = pdf['ano_mes'].dt.year\n",
    "    pdf['mes'] = pdf['ano_mes'].dt.month\n",
    "    X = pdf[['ano','mes']]\n",
    "    y = pdf['qtde'].values\n",
    "    \n",
    "    # Treinar modelos\n",
    "    rf_model = RandomForestRegressor(n_estimators=5, random_state=42)\n",
    "    rf_model.fit(X, y)\n",
    "    xgb_model = xgb.XGBRegressor(n_estimators=5, n_jobs=-1, random_state=42)\n",
    "    xgb_model.fit(X, y)\n",
    "    lgb_model = lgb.LGBMRegressor(n_estimators=5, n_jobs=-1, random_state=42)\n",
    "    lgb_model.fit(X, y)\n",
    "    \n",
    "    # Próximos 3 meses\n",
    "    last_date = pdf['ano_mes'].max()\n",
    "    future_dates = pd.date_range(start=last_date + pd.offsets.MonthBegin(1), periods=3, freq='MS')\n",
    "    future_df = pd.DataFrame({'ano': future_dates.year, 'mes': future_dates.month})\n",
    "    \n",
    "    # Previsões\n",
    "    rf_pred = np.clip(rf_model.predict(future_df), 0, None).sum()\n",
    "    xgb_pred = np.clip(xgb_model.predict(future_df), 0, None).sum()\n",
    "    lgb_pred = np.clip(lgb_model.predict(future_df), 0, None).sum()\n",
    "    ma_pred = pdf['qtde'].rolling(3, min_periods=1).mean().iloc[-1] * 3\n",
    "    \n",
    "    return pd.DataFrame({\n",
    "        'produto':[produto],\n",
    "        'id_loja':[loja],\n",
    "        'rf':[rf_pred],\n",
    "        'xgb':[xgb_pred],\n",
    "        'lgb':[lgb_pred],\n",
    "        'ma':[ma_pred]\n",
    "    })\n",
    "\n",
    "# =========================\n",
    "# Schema\n",
    "# =========================\n",
    "# =========================\n",
    "# Schema corrigido\n",
    "# =========================\n",
    "\n",
    "schema = StructType([\n",
    "    StructField(\"produto\", StringType()),   # produto como string\n",
    "    StructField(\"id_loja\", StringType()),   # id_loja como string\n",
    "    StructField(\"rf\", DoubleType()),\n",
    "    StructField(\"xgb\", DoubleType()),\n",
    "    StructField(\"lgb\", DoubleType()),\n",
    "    StructField(\"ma\", DoubleType())\n",
    "])\n",
    "\n",
    "\n",
    "# =========================\n",
    "# Aplicar forecast em paralelo\n",
    "# =========================\n",
    "df_forecast = df_agg.groupBy(\"produto\",\"id_loja\") \\\n",
    "                    .applyInPandas(forecast_3meses, schema=schema)\n",
    "\n",
    "# =========================\n",
    "# Mostrar resultado rápido\n",
    "# =========================\n",
    "df_forecast.show(5, truncate=False)\n",
    "\n",
    "# =========================\n",
    "# Salvar em Delta\n",
    "# =========================\n",
    "spark.sql(\"CREATE SCHEMA IF NOT EXISTS ted_dev.dev_andre_silva\")\n",
    "df_forecast.write.mode(\"overwrite\") \\\n",
    "    .format(\"delta\") \\\n",
    "    .saveAsTable(\"ted_dev.dev_andre_silva.forecast_loja_3meses\")"
   ]
  },
  {
   "cell_type": "code",
   "execution_count": 0,
   "metadata": {
    "application/vnd.databricks.v1+cell": {
     "cellMetadata": {
      "byteLimit": 2048000,
      "implicitDf": true,
      "rowLimit": 10000
     },
     "inputWidgets": {},
     "nuid": "27fddecc-c123-455d-8e8b-3488361420d2",
     "showTitle": false,
     "tableResultSettingsMap": {},
     "title": ""
    }
   },
   "outputs": [],
   "source": [
    "%sql\n",
    "-- =========================\n",
    "-- Exemplo Sazonalidade\n",
    "-- =========================\n",
    "SELECT\n",
    "    data_de_venda,\n",
    "    SUM(qtde) AS qtde_mensal\n",
    "FROM ted_dev.dbt_acroccia_aw_marts.fato_pedidos_2\n",
    "WHERE produto = 'AWC Logo Cap'\n",
    "  AND id_loja = '1002'\n",
    "GROUP BY data_de_venda\n",
    "ORDER BY data_de_venda;\n"
   ]
  },
  {
   "cell_type": "code",
   "execution_count": 0,
   "metadata": {
    "application/vnd.databricks.v1+cell": {
     "cellMetadata": {
      "byteLimit": 2048000,
      "implicitDf": true,
      "rowLimit": 10000
     },
     "inputWidgets": {},
     "nuid": "cb7ad40e-2ae0-4aeb-95f8-b6a70e27b96a",
     "showTitle": false,
     "tableResultSettingsMap": {},
     "title": ""
    }
   },
   "outputs": [],
   "source": [
    "%sql\n",
    "WITH previsao_luvas AS (\n",
    "    SELECT \n",
    "        produto,\n",
    "        id_loja,\n",
    "        rf, xgb, lgb, ma,\n",
    "        (rf + xgb + lgb + ma)/4 AS media_modelos\n",
    "    FROM ted_dev.dev_andre_silva.forecast_loja_3meses \n",
    "    WHERE LOWER(produto) LIKE '%gloves%'\n",
    ")\n",
    "SELECT\n",
    "    SUM(media_modelos) * 2 AS ziperes_necessarios_prox_3_meses\n",
    "FROM previsao_luvas;\n"
   ]
  },
  {
   "cell_type": "code",
   "execution_count": 0,
   "metadata": {
    "application/vnd.databricks.v1+cell": {
     "cellMetadata": {
      "byteLimit": 2048000,
      "implicitDf": true,
      "rowLimit": 10000
     },
     "inputWidgets": {},
     "nuid": "0da4bbc2-923d-4ab2-9187-f6170a0bffc7",
     "showTitle": false,
     "tableResultSettingsMap": {},
     "title": ""
    }
   },
   "outputs": [],
   "source": [
    "%sql\n",
    "    SELECT \n",
    "        produto,\n",
    "        id_loja,\n",
    "        rf, xgb, lgb, ma,\n",
    "        (rf + xgb + lgb + ma)/4 AS media_modelos\n",
    "    FROM ted_dev.dev_andre_silva.forecast_loja_3meses \n",
    "    WHERE LOWER(produto) LIKE '%gloves%'\n"
   ]
  },
  {
   "cell_type": "code",
   "execution_count": 0,
   "metadata": {
    "application/vnd.databricks.v1+cell": {
     "cellMetadata": {
      "byteLimit": 2048000,
      "implicitDf": true,
      "rowLimit": 10000
     },
     "inputWidgets": {},
     "nuid": "1173309c-b36e-4da0-9159-9672e04dba59",
     "showTitle": false,
     "tableResultSettingsMap": {},
     "title": ""
    }
   },
   "outputs": [],
   "source": [
    "%sql\n",
    "SELECT\n",
    "    YEAR(data_de_venda) AS ano,\n",
    "    MONTH(data_de_venda) AS mes,\n",
    "    SUM(qtde) AS total_luvas_vendidas\n",
    "FROM ted_dev.dbt_acroccia_aw_marts.fato_pedidos_2\n",
    "WHERE LOWER(produto) LIKE '%glove%'\n",
    "GROUP BY YEAR(data_de_venda), MONTH(data_de_venda)\n",
    "ORDER BY ano, mes;\n",
    "\n",
    "\n",
    "\n"
   ]
  },
  {
   "cell_type": "code",
   "execution_count": 0,
   "metadata": {
    "application/vnd.databricks.v1+cell": {
     "cellMetadata": {},
     "inputWidgets": {},
     "nuid": "0603ae93-29d1-46f3-a3ec-6f5aeaf6b7a8",
     "showTitle": false,
     "tableResultSettingsMap": {},
     "title": ""
    }
   },
   "outputs": [],
   "source": []
  }
 ],
 "metadata": {
  "application/vnd.databricks.v1+notebook": {
   "computePreferences": null,
   "dashboards": [],
   "environmentMetadata": {
    "base_environment": "",
    "environment_version": "3"
   },
   "inputWidgetPreferences": null,
   "language": "python",
   "notebookMetadata": {
    "mostRecentlyExecutedCommandWithImplicitDF": {
     "commandId": 5697862893036505,
     "dataframes": [
      "_sqldf"
     ]
    },
    "pythonIndentUnit": 4
   },
   "notebookName": "CH5",
   "widgets": {}
  },
  "language_info": {
   "name": "python"
  }
 },
 "nbformat": 4,
 "nbformat_minor": 0
}
